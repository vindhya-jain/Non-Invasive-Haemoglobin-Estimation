{
 "cells": [
  {
   "cell_type": "code",
   "execution_count": null,
   "id": "7b08b07a",
   "metadata": {},
   "outputs": [
    {
     "name": "stdout",
     "output_type": "stream",
     "text": [
      "Cropping completed.\n"
     ]
    }
   ],
   "source": [
    "import os\n",
    "import cv2\n",
    "import numpy as np\n",
    "\n",
    "def calculate_covariances(frame, window_size):\n",
    "    h, w, _ = frame.shape\n",
    "    max_cov = -np.inf\n",
    "    max_window = None\n",
    "    for i in range(0, h - window_size[1] + 1):\n",
    "        for j in range(0, w - window_size[0] + 1):\n",
    "            window = frame[i:i + window_size[1], j:j + window_size[0], :]\n",
    "            red_channel = window[:, :, 2].flatten()  # Red intensities\n",
    "            green_channel = window[:, :, 1].flatten()  # Green intensities\n",
    "            blue_channel = window[:, :, 0].flatten()  # Blue intensities\n",
    "            \n",
    "            cov_rg = np.cov(red_channel, green_channel)[0, 1]\n",
    "            cov_rb = np.cov(red_channel, blue_channel)[0, 1]\n",
    "            \n",
    "            if abs(cov_rg) + abs(cov_rb) > max_cov:\n",
    "                max_cov = abs(cov_rg) + abs(cov_rb)\n",
    "                max_window = (j, i, window_size[0], window_size[1])\n",
    "    return max_window\n",
    "\n",
    "def process_video(input_path, output_path, window_size):\n",
    "    cap = cv2.VideoCapture(input_path)\n",
    "    \n",
    "    # original width, height, and fps\n",
    "    fps = cap.get(cv2.CAP_PROP_FPS)\n",
    "    \n",
    "    ret, first_frame = cap.read()\n",
    "    if not ret:\n",
    "        print(f\"Failed to read the first frame of {input_path}\")\n",
    "        return\n",
    "    \n",
    "    # coordinates for the window with max covariance in the first frame\n",
    "    max_window = calculate_covariances(first_frame, window_size)\n",
    "    if max_window is None:\n",
    "        print(f\"No valid window found for {input_path}\")\n",
    "        return\n",
    "    \n",
    "    x, y, crop_width, crop_height = max_window\n",
    "    \n",
    "    fourcc = cv2.VideoWriter_fourcc(*'mp4v')\n",
    "    out = cv2.VideoWriter(output_path, fourcc, fps, (crop_width, crop_height))\n",
    "    \n",
    "    cap.set(cv2.CAP_PROP_POS_FRAMES, 0)\n",
    "    while cap.isOpened():\n",
    "        ret, frame = cap.read()\n",
    "        if ret:\n",
    "            cropped_frame = frame[y:y + crop_height, x:x + crop_width]\n",
    "            \n",
    "            out.write(cropped_frame)\n",
    "        else:\n",
    "            break\n",
    "    \n",
    "    cap.release()\n",
    "    out.release()\n",
    "\n",
    "input_dir = 'sample_videos'\n",
    "output_dir = 'cropped_videos'\n",
    "\n",
    "if not os.path.exists(output_dir):\n",
    "    os.makedirs(output_dir)\n",
    "\n",
    "video_files = [f for f in os.listdir(input_dir) if os.path.isfile(os.path.join(input_dir, f))]\n",
    "\n",
    "for video_file in video_files:\n",
    "    input_video_path = os.path.join(input_dir, video_file)\n",
    "    output_video_path = os.path.join(output_dir, 'cropped_' + video_file)\n",
    "    window_size = (11, 11)\n",
    "    \n",
    "    process_video(input_video_path, output_video_path, window_size)\n",
    "\n",
    "print(\"Cropping completed.\")"
   ]
  }
 ],
 "metadata": {
  "kernelspec": {
   "display_name": "Python 3 (ipykernel)",
   "language": "python",
   "name": "python3"
  },
  "language_info": {
   "codemirror_mode": {
    "name": "ipython",
    "version": 3
   },
   "file_extension": ".py",
   "mimetype": "text/x-python",
   "name": "python",
   "nbconvert_exporter": "python",
   "pygments_lexer": "ipython3",
   "version": "3.11.5"
  }
 },
 "nbformat": 4,
 "nbformat_minor": 5
}
