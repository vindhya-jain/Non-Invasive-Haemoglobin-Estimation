{
 "cells": [
  {
   "cell_type": "code",
   "execution_count": 1,
   "id": "f4308a40",
   "metadata": {},
   "outputs": [],
   "source": [
    "from pynq import Overlay\n",
    "import numpy as np\n",
    "import pandas as pd"
   ]
  },
  {
   "cell_type": "code",
   "execution_count": 2,
   "id": "032358b9",
   "metadata": {},
   "outputs": [
    {
     "name": "stdout",
     "output_type": "stream",
     "text": [
      "99.999\n",
      "374.99625\n",
      "1199.988\n"
     ]
    }
   ],
   "source": [
    "from pynq import ps\n",
    "\n",
    "print(ps.Clocks.fclk0_mhz)\n",
    "ps.Clocks.fclk0_mhz = 375\n",
    "print(ps.Clocks.fclk0_mhz)\n",
    "print(ps.Clocks.cpu_mhz)"
   ]
  },
  {
   "cell_type": "code",
   "execution_count": 3,
   "id": "2445b948",
   "metadata": {},
   "outputs": [
    {
     "data": {
      "application/javascript": [
       "\n",
       "try {\n",
       "require(['notebook/js/codecell'], function(codecell) {\n",
       "  codecell.CodeCell.options_default.highlight_modes[\n",
       "      'magic_text/x-csrc'] = {'reg':[/^%%microblaze/]};\n",
       "  Jupyter.notebook.events.one('kernel_ready.Kernel', function(){\n",
       "      Jupyter.notebook.get_cells().map(function(cell){\n",
       "          if (cell.cell_type == 'code'){ cell.auto_highlight(); } }) ;\n",
       "  });\n",
       "});\n",
       "} catch (e) {};\n"
      ]
     },
     "metadata": {},
     "output_type": "display_data"
    },
    {
     "data": {
      "application/javascript": [
       "\n",
       "try {\n",
       "require(['notebook/js/codecell'], function(codecell) {\n",
       "  codecell.CodeCell.options_default.highlight_modes[\n",
       "      'magic_text/x-csrc'] = {'reg':[/^%%pybind11/]};\n",
       "  Jupyter.notebook.events.one('kernel_ready.Kernel', function(){\n",
       "      Jupyter.notebook.get_cells().map(function(cell){\n",
       "          if (cell.cell_type == 'code'){ cell.auto_highlight(); } }) ;\n",
       "  });\n",
       "});\n",
       "} catch (e) {};\n"
      ]
     },
     "metadata": {},
     "output_type": "display_data"
    }
   ],
   "source": [
    "# Replace with your actual path\n",
    "bitstream_path = \"design_1.bit\"\n",
    "hwh_file_path = \"design_1.hwh\"\n",
    "\n",
    "# Load the bitstream onto the board\n",
    "overlay = Overlay(bitstream_path)\n",
    "overlay.download()  # This applies the bitstream to the board"
   ]
  },
  {
   "cell_type": "code",
   "execution_count": 4,
   "id": "416a50d5",
   "metadata": {},
   "outputs": [
    {
     "name": "stdout",
     "output_type": "stream",
     "text": [
      "<pynq.overlay.Overlay object at 0xffff62a53280>\n"
     ]
    }
   ],
   "source": [
    "# Print out information about the overlay\n",
    "print(overlay)"
   ]
  },
  {
   "cell_type": "code",
   "execution_count": 5,
   "id": "b3c5acab",
   "metadata": {},
   "outputs": [
    {
     "name": "stdout",
     "output_type": "stream",
     "text": [
      "Available IPs in the overlay:\n",
      "linear_regression_0\n",
      "zynq_ultra_ps_e_0\n"
     ]
    }
   ],
   "source": [
    "# Load the overlay\n",
    "overlay = Overlay(bitstream_path)\n",
    "\n",
    "# List all available IPs in the overlay\n",
    "print(\"Available IPs in the overlay:\")\n",
    "for ip in overlay.ip_dict:\n",
    "    print(ip)"
   ]
  },
  {
   "cell_type": "code",
   "execution_count": 6,
   "id": "1650ec75",
   "metadata": {},
   "outputs": [],
   "source": [
    "linear_regression_ip = overlay.linear_regression_0"
   ]
  },
  {
   "cell_type": "code",
   "execution_count": 7,
   "id": "d28306bf",
   "metadata": {},
   "outputs": [],
   "source": [
    "# normalised, rgb channel intensities\n",
    "X = np.array([\n",
    "    [1, 0.5909, 0.4895, 0.5242],\n",
    "    [1, 0.5231, 0.4349, 0.4282],\n",
    "    [1, 0.7565, 0.6464, 0.6516],\n",
    "    [1, 0.8476, 0.6472, 0.6024],\n",
    "    [1, 0.5912, 0.6896, 0.6233],\n",
    "    [1, 0.5913, 0.5117, 0.5574],\n",
    "    [1, 0.6181, 0.5373, 0.5072],\n",
    "    [1, 0.6512, 0.6931, 0.7386],\n",
    "    [1, 0.3691, 0.3197, 0.3185],\n",
    "    [1, 0.5374, 0.6470, 0.6364],\n",
    "    [1, 0.6091, 0.5752, 0.5581],\n",
    "    [1, 0.7883, 0.6878, 0.6064],\n",
    "    [1, 0.4955, 0.5107, 0.5203],\n",
    "    [1, 0.4093, 0.5500, 0.4422],\n",
    "    [1, 0.6030, 0.5382, 0.5027],\n",
    "    [1, 0.6738, 0.5971, 0.5125],\n",
    "    [1, 0.4975, 0.4971, 0.4242],\n",
    "    [1, 0.5834, 0.5893, 0.5632],\n",
    "    [1, 0.4790, 0.6039, 0.5792],\n",
    "    [1, 0.6776, 1.0000, 1.0000]\n",
    "], dtype=np.float32)\n",
    "\n",
    "weights = np.array([11.578635, -0.128110, -0.813338, 0.951879], dtype = np.float32)"
   ]
  },
  {
   "cell_type": "code",
   "execution_count": 8,
   "id": "210a9685",
   "metadata": {},
   "outputs": [],
   "source": [
    "from pynq import allocate\n",
    "X_buffer = allocate(shape=(20, 4), dtype=np.float32)\n",
    "weights_buffer = allocate(shape=(4, ), dtype=np.float32)\n",
    "y_pred_buffer = allocate(shape=(20, ), dtype=np.float32)"
   ]
  },
  {
   "cell_type": "code",
   "execution_count": 9,
   "id": "942a158f",
   "metadata": {},
   "outputs": [],
   "source": [
    "np.copyto(X_buffer, X)\n",
    "np.copyto(weights_buffer, weights)"
   ]
  },
  {
   "cell_type": "code",
   "execution_count": 10,
   "id": "70d68e64",
   "metadata": {},
   "outputs": [
    {
     "name": "stdout",
     "output_type": "stream",
     "text": [
      "[[1.     0.5909 0.4895 0.5242]\n",
      " [1.     0.5231 0.4349 0.4282]\n",
      " [1.     0.7565 0.6464 0.6516]\n",
      " [1.     0.8476 0.6472 0.6024]\n",
      " [1.     0.5912 0.6896 0.6233]\n",
      " [1.     0.5913 0.5117 0.5574]\n",
      " [1.     0.6181 0.5373 0.5072]\n",
      " [1.     0.6512 0.6931 0.7386]\n",
      " [1.     0.3691 0.3197 0.3185]\n",
      " [1.     0.5374 0.647  0.6364]\n",
      " [1.     0.6091 0.5752 0.5581]\n",
      " [1.     0.7883 0.6878 0.6064]\n",
      " [1.     0.4955 0.5107 0.5203]\n",
      " [1.     0.4093 0.55   0.4422]\n",
      " [1.     0.603  0.5382 0.5027]\n",
      " [1.     0.6738 0.5971 0.5125]\n",
      " [1.     0.4975 0.4971 0.4242]\n",
      " [1.     0.5834 0.5893 0.5632]\n",
      " [1.     0.479  0.6039 0.5792]\n",
      " [1.     0.6776 1.     1.    ]]\n"
     ]
    }
   ],
   "source": [
    "print(X_buffer)"
   ]
  },
  {
   "cell_type": "code",
   "execution_count": 11,
   "id": "820beb11",
   "metadata": {},
   "outputs": [
    {
     "name": "stdout",
     "output_type": "stream",
     "text": [
      "[11.578635 -0.12811  -0.813338  0.951879]\n"
     ]
    }
   ],
   "source": [
    "print(weights_buffer)"
   ]
  },
  {
   "cell_type": "code",
   "execution_count": 12,
   "id": "ef3ad3b0",
   "metadata": {},
   "outputs": [
    {
     "data": {
      "text/plain": [
       "RegisterMap {\n",
       "  CTRL = Register(AP_START=0, AP_DONE=0, AP_IDLE=1, AP_READY=0, RESERVED_1=0, AUTO_RESTART=0, RESERVED_2=0, INTERRUPT=0, RESERVED_3=0),\n",
       "  GIER = Register(Enable=0, RESERVED=0),\n",
       "  IP_IER = Register(CHAN0_INT_EN=0, CHAN1_INT_EN=0, RESERVED_0=0),\n",
       "  IP_ISR = Register(CHAN0_INT_ST=0, CHAN1_INT_ST=0, RESERVED_0=0),\n",
       "  X_1 = Register(X=write-only),\n",
       "  X_2 = Register(X=write-only),\n",
       "  y_pred_1 = Register(y_pred=write-only),\n",
       "  y_pred_2 = Register(y_pred=write-only),\n",
       "  weights_1 = Register(weights=write-only),\n",
       "  weights_2 = Register(weights=write-only)\n",
       "}"
      ]
     },
     "execution_count": 12,
     "metadata": {},
     "output_type": "execute_result"
    }
   ],
   "source": [
    "linear_regression_ip.register_map"
   ]
  },
  {
   "cell_type": "code",
   "execution_count": 13,
   "id": "c193b212",
   "metadata": {},
   "outputs": [
    {
     "name": "stdout",
     "output_type": "stream",
     "text": [
      "16\n",
      "28\n"
     ]
    }
   ],
   "source": [
    "print(linear_regression_ip.register_map.X_1.address)\n",
    "print(linear_regression_ip.register_map.y_pred_1.address)"
   ]
  },
  {
   "cell_type": "code",
   "execution_count": 14,
   "id": "01f266f9",
   "metadata": {},
   "outputs": [],
   "source": [
    "linear_regression_ip.write(linear_regression_ip.register_map.X_1.address, X_buffer.device_address)\n",
    "linear_regression_ip.write(linear_regression_ip.register_map.weights_1.address, weights_buffer.device_address)\n",
    "linear_regression_ip.write(linear_regression_ip.register_map.y_pred_1.address, y_pred_buffer.device_address)"
   ]
  },
  {
   "cell_type": "code",
   "execution_count": 15,
   "id": "363af33f",
   "metadata": {},
   "outputs": [
    {
     "name": "stdout",
     "output_type": "stream",
     "text": [
      "['CTRL', 'GIER', 'IP_IER', 'IP_ISR', 'X_1', 'X_2', '__class__', '__delattr__', '__dict__', '__dir__', '__doc__', '__eq__', '__format__', '__ge__', '__getattribute__', '__gt__', '__hash__', '__init__', '__init_subclass__', '__le__', '__lt__', '__module__', '__ne__', '__new__', '__reduce__', '__reduce_ex__', '__repr__', '__setattr__', '__sizeof__', '__str__', '__subclasshook__', '__weakref__', '_get_value', '_instances', '_map_size', '_register_classes', '_set_value', 'create_subclass', 'weights_1', 'weights_2', 'y_pred_1', 'y_pred_2']\n"
     ]
    }
   ],
   "source": [
    "print(dir(linear_regression_ip.register_map))"
   ]
  },
  {
   "cell_type": "code",
   "execution_count": 16,
   "id": "7ed2ab0e",
   "metadata": {},
   "outputs": [],
   "source": [
    "# Start the IP\n",
    "linear_regression_ip.register_map.CTRL.AP_START = 1"
   ]
  },
  {
   "cell_type": "code",
   "execution_count": 17,
   "id": "369350e4",
   "metadata": {},
   "outputs": [
    {
     "name": "stdout",
     "output_type": "stream",
     "text": [
      "[11.603782  11.565495  11.576222  11.517069  11.535325  11.617276\n",
      " 11.545237  11.634543  11.574499  11.5893345 11.564015  11.495451\n",
      " 11.595047  11.499784  11.542156  11.494508  11.514377  11.560694\n",
      " 11.577424  11.630369 ]\n"
     ]
    }
   ],
   "source": [
    "y_pred_buffer.sync_from_device()\n",
    "print(y_pred_buffer)"
   ]
  },
  {
   "cell_type": "code",
   "execution_count": 28,
   "id": "b3849ef3",
   "metadata": {},
   "outputs": [],
   "source": [
    "labels_df = pd.read_csv(\"labels.csv\", header=None)\n",
    "labels = labels_df.values.flatten()"
   ]
  },
  {
   "cell_type": "code",
   "execution_count": 30,
   "id": "bbb2402d",
   "metadata": {},
   "outputs": [
    {
     "name": "stdout",
     "output_type": "stream",
     "text": [
      "(20, 1)\n",
      "(20, 4)\n"
     ]
    }
   ],
   "source": [
    "print(labels_df.shape)\n",
    "print(X.shape)"
   ]
  },
  {
   "cell_type": "code",
   "execution_count": 31,
   "id": "cadb212f",
   "metadata": {},
   "outputs": [],
   "source": [
    "predictions = np.array(y_pred_buffer)"
   ]
  },
  {
   "cell_type": "code",
   "execution_count": 41,
   "id": "e3012db0",
   "metadata": {},
   "outputs": [],
   "source": [
    "# squared_errors = (labels - predictions) ** 2\n",
    "# mse = np.mean(squared_errors)"
   ]
  },
  {
   "cell_type": "code",
   "execution_count": 42,
   "id": "0cd94906",
   "metadata": {},
   "outputs": [],
   "source": [
    "# print(\"MSE:\", mse)"
   ]
  },
  {
   "cell_type": "code",
   "execution_count": 40,
   "id": "95bf3b27",
   "metadata": {},
   "outputs": [
    {
     "name": "stdout",
     "output_type": "stream",
     "text": [
      "[11.603782  11.565495  11.576222  11.517069  11.535325  11.617276\n",
      " 11.545237  11.634543  11.574499  11.5893345 11.564015  11.495451\n",
      " 11.595047  11.499784  11.542156  11.494508  11.514377  11.560694\n",
      " 11.577424  11.630369 ]\n"
     ]
    }
   ],
   "source": [
    "print(predictions)"
   ]
  },
  {
   "cell_type": "code",
   "execution_count": 43,
   "id": "177f64ee",
   "metadata": {},
   "outputs": [
    {
     "name": "stdout",
     "output_type": "stream",
     "text": [
      "RMSE: 1.3041\n",
      "Correlation (r): 0.1112\n",
      "Hemoglobin Estimation Accuracy: 90.05%\n"
     ]
    }
   ],
   "source": [
    "hi = labels  # ground truth\n",
    "hi_hat = np.array(y_pred_buffer)  # predictions\n",
    "\n",
    "# Root Mean Squared Error (RMSE)\n",
    "rmse = np.sqrt(np.mean((hi_hat - hi) ** 2))\n",
    "\n",
    "# Pearson Correlation (r)\n",
    "correlation = np.corrcoef(hi_hat, hi)[0, 1]\n",
    "\n",
    "# Hemoglobin Estimation Accuracy (as defined)\n",
    "accuracy = np.mean((hi - np.abs(hi_hat - hi)) / hi) * 100\n",
    "\n",
    "print(f\"RMSE: {rmse:.4f}\")\n",
    "print(f\"Correlation (r): {correlation:.4f}\")\n",
    "print(f\"Hemoglobin Estimation Accuracy: {accuracy:.2f}%\")"
   ]
  },
  {
   "cell_type": "code",
   "execution_count": null,
   "id": "ee8bf607",
   "metadata": {},
   "outputs": [],
   "source": []
  }
 ],
 "metadata": {
  "kernelspec": {
   "display_name": "Python 3 (ipykernel)",
   "language": "python",
   "name": "python3"
  },
  "language_info": {
   "codemirror_mode": {
    "name": "ipython",
    "version": 3
   },
   "file_extension": ".py",
   "mimetype": "text/x-python",
   "name": "python",
   "nbconvert_exporter": "python",
   "pygments_lexer": "ipython3",
   "version": "3.10.4"
  }
 },
 "nbformat": 4,
 "nbformat_minor": 5
}
